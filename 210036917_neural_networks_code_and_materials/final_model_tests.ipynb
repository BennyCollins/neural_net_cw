{
 "cells": [
  {
   "cell_type": "code",
   "execution_count": 1,
   "id": "555050e0",
   "metadata": {},
   "outputs": [],
   "source": [
    "import pandas as pd\n",
    "from sklearn.model_selection import train_test_split, cross_val_score\n",
    "import numpy as np\n",
    "import matplotlib.pyplot as plt\n",
    "import torch\n",
    "import torch.nn as nn\n",
    "import torch.nn.functional as F\n",
    "from sklearn.metrics import accuracy_score, confusion_matrix, ConfusionMatrixDisplay, classification_report, roc_curve, auc, plot_roc_curve\n",
    "from sklearn.preprocessing import StandardScaler"
   ]
  },
  {
   "cell_type": "code",
   "execution_count": 2,
   "id": "3a0ee70b",
   "metadata": {},
   "outputs": [],
   "source": [
    "from skorch.classifier import NeuralNetBinaryClassifier\n",
    "import optuna\n",
    "from optuna.integration import SkorchPruningCallback"
   ]
  },
  {
   "cell_type": "code",
   "execution_count": 3,
   "id": "4a7bc781",
   "metadata": {},
   "outputs": [],
   "source": [
    "# Importing test\n",
    "X_test = np.load('final_models/X_test.npy')\n",
    "y_test = np.load('final_models/y_test.npy')"
   ]
  },
  {
   "cell_type": "code",
   "execution_count": 4,
   "id": "561b4159",
   "metadata": {},
   "outputs": [],
   "source": [
    "X_train_SVM = np.copy(X_train)\n",
    "X_test_SVM = np.copy(X_test)\n",
    "y_train_SVM = np.copy(y_train)\n",
    "y_test_SVM = np.copy(y_test)"
   ]
  },
  {
   "cell_type": "code",
   "execution_count": 5,
   "id": "87f9812f",
   "metadata": {},
   "outputs": [],
   "source": [
    "# Normalising data for use in SVM\n",
    "scaler = StandardScaler()\n",
    "# Fitting mean and standard deviation to the training values, then using these values to transform training and test sets\n",
    "X_train_SVM = scaler.fit_transform(X_train_SVM)\n",
    "X_test_SVM = scaler.transform(X_test_SVM)"
   ]
  },
  {
   "cell_type": "markdown",
   "id": "cd420444",
   "metadata": {},
   "source": [
    "# Final MLP"
   ]
  },
  {
   "cell_type": "code",
   "execution_count": 6,
   "id": "b7a72333",
   "metadata": {},
   "outputs": [],
   "source": [
    "# The MLP network class from the training notebook, with the hyperparameter values set to the optimised values\n",
    "class opt_MLP_network(nn.Module):\n",
    "    def __init__(self, input_dim=21, hidden_dim=23, output_dim=1, extra_hidden_layers=3):\n",
    "        super(opt_MLP_network, self).__init__()\n",
    "        layers = []\n",
    "        layers.append(nn.Linear(input_dim, hidden_dim, bias=True)) # linear connections\n",
    "        layers.append(nn.ReLU(inplace=True)) # activation function\n",
    "        for i in range(extra_hidden_layers):\n",
    "            layers.append(nn.Linear(hidden_dim, hidden_dim, bias=True))\n",
    "            layers.append(nn.ReLU(inplace=True)) # activation function\n",
    "        layers.append(nn.Linear(hidden_dim, output_dim, bias=True)) # linear connection to output layer\n",
    "        self.output = nn.Sequential(*layers)\n",
    "\n",
    "    def forward(self, X):\n",
    "        # sigmoid activation function is applied in loss function, so it is excluded here\n",
    "        return self.output(X)"
   ]
  },
  {
   "cell_type": "code",
   "execution_count": 7,
   "id": "d7c34ee0",
   "metadata": {},
   "outputs": [],
   "source": [
    "# Initialising and loading final MLP model\n",
    "net_final = NeuralNetBinaryClassifier(\n",
    "    opt_MLP_network(),\n",
    ")\n",
    "net_final.initialize()\n",
    "net_final.load_params('final_models/saved_final_MLP_parameters.pkl')"
   ]
  },
  {
   "cell_type": "code",
   "execution_count": 8,
   "id": "e9b07a00",
   "metadata": {},
   "outputs": [
    {
     "name": "stdout",
     "output_type": "stream",
     "text": [
      "0.7547152018106374\n"
     ]
    }
   ],
   "source": [
    "# Testing model\n",
    "final_mlp_accuracy = net_final.score(X_test, y_test)\n",
    "print(final_mlp_accuracy)"
   ]
  },
  {
   "cell_type": "markdown",
   "id": "0a7d33e0",
   "metadata": {},
   "source": [
    "## MLP Visualisations"
   ]
  },
  {
   "cell_type": "code",
   "execution_count": 9,
   "id": "af872c4a",
   "metadata": {},
   "outputs": [],
   "source": [
    "mlp_predictions = net_final.predict(X_test)"
   ]
  },
  {
   "cell_type": "code",
   "execution_count": 10,
   "id": "8942dc0a",
   "metadata": {},
   "outputs": [],
   "source": [
    "mlp_cm = confusion_matrix(y_test, mlp_predictions, labels=net_final.classes_)"
   ]
  },
  {
   "cell_type": "code",
   "execution_count": 11,
   "id": "cb1b9cdd",
   "metadata": {},
   "outputs": [
    {
     "data": {
      "image/png": "[encoded data removed]",
      "text/plain": [
       "<Figure size 432x288 with 2 Axes>"
      ]
     },
     "metadata": {
      "needs_background": "light"
     },
     "output_type": "display_data"
    },
    {
     "data": {
      "text/plain": [
       "<Figure size 432x288 with 0 Axes>"
      ]
     },
     "metadata": {},
     "output_type": "display_data"
    }
   ],
   "source": [
    "mlp_cm_fig = ConfusionMatrixDisplay(confusion_matrix=mlp_cm, display_labels=net_final.classes_)\n",
    "mlp_cm_fig.plot()\n",
    "mlp_cm_fig.ax_.set_title('MLP: Test Confusion Matrix')\n",
    "plt.show()"
   ]
  },
  {
   "cell_type": "code",
   "execution_count": 12,
   "id": "eb3601f4",
   "metadata": {},
   "outputs": [],
   "source": [
    "y_test_class_report = y_test.astype('int')\n",
    "mlp_predictions_class_report = mlp_predictions.astype('int')"
   ]
  },
  {
   "cell_type": "code",
   "execution_count": 13,
   "id": "8c8dc9c4",
   "metadata": {
    "scrolled": true
   },
   "outputs": [
    {
     "name": "stdout",
     "output_type": "stream",
     "text": [
      "              precision    recall  f1-score   support\n",
      "\n",
      "           0       0.79      0.70      0.74     10604\n",
      "           1       0.73      0.81      0.77     10604\n",
      "\n",
      "    accuracy                           0.75     21208\n",
      "   macro avg       0.76      0.75      0.75     21208\n",
      "weighted avg       0.76      0.75      0.75     21208\n",
      "\n"
     ]
    }
   ],
   "source": [
    "print(classification_report(y_test_class_report, mlp_predictions_class_report))"
   ]
  },
  {
   "cell_type": "code",
   "execution_count": 14,
   "id": "c2f52c8b",
   "metadata": {},
   "outputs": [],
   "source": [
    "mlp_prob_scores = net_final.predict_proba(X_test)\n",
    "mlp_prob_scores = mlp_prob_scores[:,1]\n",
    "mlp_false_positive_rate, mlp_true_positive_rate, _ = roc_curve(y_test.ravel(), mlp_prob_scores.ravel())\n",
    "mlp_auc = auc(mlp_false_positive_rate, mlp_true_positive_rate)"
   ]
  },
  {
   "cell_type": "code",
   "execution_count": 15,
   "id": "477149f9",
   "metadata": {},
   "outputs": [
    {
     "data": {
      "image/png": "[encoded data removed]",
      "text/plain": [
       "<Figure size 432x288 with 1 Axes>"
      ]
     },
     "metadata": {
      "needs_background": "light"
     },
     "output_type": "display_data"
    }
   ],
   "source": [
    "plt.figure()\n",
    "plt.plot(mlp_false_positive_rate, mlp_true_positive_rate, label=\"ROC curve (area = %0.3f)\"%mlp_auc)\n",
    "plt.plot([0, 1], [0, 1], linestyle=\"--\")\n",
    "plt.xlim([0.0, 1.0])\n",
    "plt.ylim([0.0, 1.05])\n",
    "plt.xlabel(\"False Positive Rate\")\n",
    "plt.ylabel(\"True Positive Rate\")\n",
    "plt.title(\"MLP: ROC Curve\")\n",
    "plt.legend(loc=\"lower right\")\n",
    "plt.show()"
   ]
  },
  {
   "cell_type": "markdown",
   "id": "95c9a621",
   "metadata": {},
   "source": [
    "# Final SVC"
   ]
  },
  {
   "cell_type": "code",
   "execution_count": 16,
   "id": "a810a841",
   "metadata": {},
   "outputs": [],
   "source": [
    "import pickle"
   ]
  },
  {
   "cell_type": "code",
   "execution_count": 17,
   "id": "3a6b5ee2",
   "metadata": {},
   "outputs": [],
   "source": [
    "# Loading trained final SVC model\n",
    "final_svc_model = pickle.load(open('final_models/saved_final_SVM_model.pkl', 'rb'))"
   ]
  },
  {
   "cell_type": "code",
   "execution_count": 18,
   "id": "feaa0828",
   "metadata": {},
   "outputs": [
    {
     "name": "stdout",
     "output_type": "stream",
     "text": [
      "0.7520746887966805\n"
     ]
    }
   ],
   "source": [
    "# Testing accuracy\n",
    "final_svm_accuracy = final_svc_model.score(X_test_SVM, y_test_SVM)\n",
    "print(final_svm_accuracy)"
   ]
  },
  {
   "cell_type": "markdown",
   "id": "d3fd3c86",
   "metadata": {},
   "source": [
    "## SVC Visualisations"
   ]
  },
  {
   "cell_type": "code",
   "execution_count": 19,
   "id": "f2147776",
   "metadata": {},
   "outputs": [],
   "source": [
    "svc_predictions = final_svc_model.predict(X_test_SVM)\n",
    "svc_cm = confusion_matrix(y_test_SVM, svc_predictions, labels=final_svc_model.classes_)"
   ]
  },
  {
   "cell_type": "code",
   "execution_count": 20,
   "id": "d9a2bb25",
   "metadata": {},
   "outputs": [
    {
     "data": {
      "image/png": "[encoded data removed]",
      "text/plain": [
       "<Figure size 432x288 with 2 Axes>"
      ]
     },
     "metadata": {
      "needs_background": "light"
     },
     "output_type": "display_data"
    }
   ],
   "source": [
    "svc_cm_fig = ConfusionMatrixDisplay(confusion_matrix=svc_cm, display_labels=final_svc_model.classes_)\n",
    "svc_cm_fig.plot()\n",
    "svc_cm_fig.ax_.set_title('SVC: Test Confusion Matrix')\n",
    "plt.show()"
   ]
  },
  {
   "cell_type": "code",
   "execution_count": 21,
   "id": "320fb8a8",
   "metadata": {},
   "outputs": [],
   "source": [
    "y_test_SVM_class_report = y_test_SVM.astype('int')\n",
    "svc_predictions_class_report = svc_predictions.astype('int')"
   ]
  },
  {
   "cell_type": "code",
   "execution_count": 22,
   "id": "315c1170",
   "metadata": {},
   "outputs": [
    {
     "name": "stdout",
     "output_type": "stream",
     "text": [
      "              precision    recall  f1-score   support\n",
      "\n",
      "           0       0.79      0.69      0.74     10604\n",
      "           1       0.72      0.81      0.77     10604\n",
      "\n",
      "    accuracy                           0.75     21208\n",
      "   macro avg       0.76      0.75      0.75     21208\n",
      "weighted avg       0.76      0.75      0.75     21208\n",
      "\n"
     ]
    }
   ],
   "source": [
    "print(classification_report(y_test_SVM_class_report, svc_predictions_class_report))"
   ]
  },
  {
   "cell_type": "code",
   "execution_count": 23,
   "id": "678334e0",
   "metadata": {},
   "outputs": [],
   "source": [
    "svc_decision_function_scores = final_svc_model.decision_function(X_test_SVM)\n",
    "svc_false_positive_rate, svc_true_positive_rate, _ = roc_curve(y_test_SVM.ravel(), svc_decision_function_scores.ravel())\n",
    "svc_auc = auc(svc_false_positive_rate, svc_true_positive_rate)"
   ]
  },
  {
   "cell_type": "code",
   "execution_count": 24,
   "id": "b90b798e",
   "metadata": {},
   "outputs": [
    {
     "data": {
      "image/png": "[encoded data removed]",
      "text/plain": [
       "<Figure size 432x288 with 1 Axes>"
      ]
     },
     "metadata": {
      "needs_background": "light"
     },
     "output_type": "display_data"
    }
   ],
   "source": [
    "plt.figure()\n",
    "plt.plot(svc_false_positive_rate, svc_true_positive_rate, label=\"ROC curve (area = %0.3f)\"%svc_auc)\n",
    "plt.plot([0, 1], [0, 1], linestyle=\"--\")\n",
    "plt.xlim([0.0, 1.0])\n",
    "plt.ylim([0.0, 1.05])\n",
    "plt.xlabel(\"False Positive Rate\")\n",
    "plt.ylabel(\"True Positive Rate\")\n",
    "plt.title(\"SVC: ROC Curve\")\n",
    "plt.legend(loc=\"lower right\")\n",
    "plt.show()"
   ]
  },
  {
   "cell_type": "code",
   "execution_count": null,
   "id": "33395a7e",
   "metadata": {},
   "outputs": [],
   "source": []
  }
 ],
 "metadata": {
  "kernelspec": {
   "display_name": "Python 3 (ipykernel)",
   "language": "python",
   "name": "python3"
  },
  "language_info": {
   "codemirror_mode": {
    "name": "ipython",
    "version": 3
   },
   "file_extension": ".py",
   "mimetype": "text/x-python",
   "name": "python",
   "nbconvert_exporter": "python",
   "pygments_lexer": "ipython3",
   "version": "3.8.12"
  }
 },
 "nbformat": 4,
 "nbformat_minor": 5
}
